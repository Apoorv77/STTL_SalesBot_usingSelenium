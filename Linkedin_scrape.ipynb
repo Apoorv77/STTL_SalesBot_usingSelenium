{
 "cells": [
  {
   "cell_type": "code",
   "execution_count": 1,
   "metadata": {},
   "outputs": [
    {
     "name": "stdout",
     "output_type": "stream",
     "text": [
      "Enter 1 to search for multiple keywords\n",
      "Enter 2 to search by a single hashtag\n",
      "1\n",
      "Enter keywords separated by space\n",
      "looking for developer recommendations\n"
     ]
    }
   ],
   "source": [
    "print('Enter 1 to search for multiple keywords')\n",
    "print('Enter 2 to search by a single hashtag')\n",
    "s = -1\n",
    "n = int(input())\n",
    "if n==1:\n",
    "    print('Enter keywords separated by space')\n",
    "    keywords = input()\n",
    "    s = 1\n",
    "if n==2:\n",
    "    print('Enter a hashtag')\n",
    "    keywords = input()\n",
    "    s = 2"
   ]
  },
  {
   "cell_type": "code",
   "execution_count": 2,
   "metadata": {},
   "outputs": [],
   "source": [
    "import os, random, sys, time\n",
    "from datetime import datetime\n",
    "from urllib.parse import urlparse\n",
    "from selenium import webdriver \n",
    "import numpy as np\n",
    "import pandas as pd\n",
    "from bs4 import BeautifulSoup\n",
    "from selenium.webdriver.common.action_chains import ActionChains\n",
    "from selenium.webdriver.common.keys import Keys\n",
    "from selenium.webdriver.support.ui import WebDriverWait\n",
    "from selenium.webdriver.support import expected_conditions as EC"
   ]
  },
  {
   "cell_type": "code",
   "execution_count": 3,
   "metadata": {},
   "outputs": [],
   "source": [
    "browser = webdriver.Chrome(executable_path=r'./chromedriver.exe')"
   ]
  },
  {
   "cell_type": "code",
   "execution_count": 4,
   "metadata": {},
   "outputs": [],
   "source": [
    "browser.get('https://www.linkedin.com/uas/login')"
   ]
  },
  {
   "cell_type": "code",
   "execution_count": 5,
   "metadata": {},
   "outputs": [],
   "source": [
    "file = open('config.txt')\n",
    "lines = file.readlines()\n",
    "username = lines[0]\n",
    "password = lines[1]"
   ]
  },
  {
   "cell_type": "code",
   "execution_count": 6,
   "metadata": {},
   "outputs": [],
   "source": [
    "elementID = browser.find_element_by_id('username')\n",
    "elementID.send_keys(username)"
   ]
  },
  {
   "cell_type": "code",
   "execution_count": 7,
   "metadata": {},
   "outputs": [],
   "source": [
    "elementID = browser.find_element_by_id('password')\n",
    "elementID.send_keys(password)"
   ]
  },
  {
   "cell_type": "code",
   "execution_count": 8,
   "metadata": {},
   "outputs": [],
   "source": [
    "#link = 'https://www.linkedin.com/feed/hashtag/internships/'\n",
    "#link = 'https://www.linkedin.com/search/results/content/?keywords=research%2C%20intern'\n",
    "content = [i for i in keywords.strip().split(' ')]\n",
    "if s == 1:\n",
    "    link = 'https://www.linkedin.com/search/results/content/?keywords='\n",
    "    for jj in range(len(content)):\n",
    "        if jj != len(content)-1:\n",
    "            link = link + content[jj] + '%20'\n",
    "        if jj == len(content)-1:\n",
    "            link = link + content[jj]\n",
    "if s == 2:\n",
    "    link = 'https://www.linkedin.com/feed/hashtag/'\n",
    "    link = link + content[0] + '/'\n",
    "\n",
    "browser.get(link)"
   ]
  },
  {
   "cell_type": "code",
   "execution_count": 9,
   "metadata": {},
   "outputs": [],
   "source": [
    "SCROLL_PAUSE_TIME = 3\n",
    "# Get scroll height\n",
    "last_height = browser.execute_script(\"return document.body.scrollHeight\")\n",
    "for i in range(10):\n",
    "    browser.execute_script(\"window.scrollTo(0, document.body.scrollHeight);\")\n",
    "    time.sleep(SCROLL_PAUSE_TIME)\n",
    "    new_height = browser.execute_script(\"return document.body.scrollHeight\")\n",
    "    if new_height == last_height:\n",
    "        break\n",
    "    last_height = new_height\n",
    "browser.find_element_by_tag_name('body').send_keys(Keys.CONTROL + Keys.HOME)"
   ]
  },
  {
   "cell_type": "code",
   "execution_count": 10,
   "metadata": {},
   "outputs": [],
   "source": [
    "browser.find_element_by_tag_name('body').send_keys(Keys.CONTROL + Keys.HOME)\n",
    "connect_buttons = browser.find_elements_by_class_name('feed-shared-inline-show-more-text__see-more-less-toggle')\n",
    "for connect_button in connect_buttons:\n",
    "    #WebDriverWait(browser, 20).until(EC.element_to_be_clickable(connect_buttons)).click()\n",
    "    connect_button.click()\n",
    "    #print(connect_button)"
   ]
  },
  {
   "cell_type": "code",
   "execution_count": 11,
   "metadata": {},
   "outputs": [],
   "source": [
    "timestamp = datetime.now()\n",
    "src = browser.page_source\n",
    "soup = BeautifulSoup(src, 'lxml')"
   ]
  },
  {
   "cell_type": "code",
   "execution_count": 12,
   "metadata": {},
   "outputs": [],
   "source": [
    "master_data = soup.find_all('div', {'class': 'feed-shared-update-v2'})\n",
    "info = soup.find_all('div', {'class':'feed-shared-actor__meta'})"
   ]
  },
  {
   "cell_type": "code",
   "execution_count": 13,
   "metadata": {
    "scrolled": true
   },
   "outputs": [],
   "source": [
    "no_pages=2"
   ]
  },
  {
   "cell_type": "code",
   "execution_count": 14,
   "metadata": {},
   "outputs": [
    {
     "name": "stdout",
     "output_type": "stream",
     "text": [
      "$$$$$$$$$$$$$$$$$$$$$$$$$*******************************************************************$$$$$$$$$$$$$$$$$$$$$$$$$$$$$\n"
     ]
    }
   ],
   "source": [
    "a=[]\n",
    "base_link=browser.current_url\n",
    "for j in range(1,no_pages+1):\n",
    "    if(j>1):\n",
    "        curr_link=base_link+\"&page=\"+str(j)\n",
    "        browser.get(curr_link)\n",
    "    for i in range(1,11):\n",
    "        path=\"//div[@id='search-marvel-srp-scroll-container']/div[1]/div[1]/ul[1]/li[\"+str(i)+\"]/div[1]/div[1]\"\n",
    "        browser.find_element_by_xpath(path).click()\n",
    "        src = browser.page_source\n",
    "        soup = BeautifulSoup(src, 'lxml')\n",
    "        master_data = soup.find_all('div', {'class': 'feed-shared-update-v2'})\n",
    "        info = soup.find_all('div', {'class':'feed-shared-actor__meta'})\n",
    "        try:\n",
    "            post_obj={}\n",
    "            Name = master_data[0].find_all('div', {'class': 'feed-shared-actor__meta relative'})[0].find('span', {'dir':'ltr'}).get_text().strip()\n",
    "            post_obj['Name']=Name\n",
    "            Post_Designation = master_data[0].find_all('span', {'class': 'feed-shared-actor__description'})[0].get_text().strip()\n",
    "            Content = master_data[0].find_all('div', {'class': 'feed-shared-update-v2__description-wrapper'})[0].get_text().strip()\n",
    "            post_obj['Content']=Content\n",
    "            #print(Post)\n",
    "            post_obj['Post_Designation']=Post_Designation\n",
    "            #print(Content)\n",
    "            Profile_URL=master_data[0].find('div', {'class': 'feed-shared-actor display-flex feed-shared-actor--with-control-menu'}).find('a', {'class':'app-aware-link feed-shared-actor__container-link relative display-flex flex-grow-1'})\n",
    "            Profile_URL=str(Profile_URL)\n",
    "            start_index=179\n",
    "            end_index=Profile_URL.find('\"',start_index)\n",
    "            Profile_URL=Profile_URL[start_index:end_index]\n",
    "            post_obj['Profile_URL']=Profile_URL\n",
    "            a.append(post_obj)\n",
    "        except:\n",
    "            pass\n",
    "print('$$$$$$$$$$$$$$$$$$$$$$$$$*******************************************************************$$$$$$$$$$$$$$$$$$$$$$$$$$$$$')"
   ]
  },
  {
   "cell_type": "code",
   "execution_count": 15,
   "metadata": {
    "scrolled": false
   },
   "outputs": [
    {
     "data": {
      "text/plain": [
       "[{'Name': 'Darshan Chhajed',\n",
       "  'Content': 'I am looking for recommendations for professionals who can help me with Website - Web Application Design & Development.#WebDevelopment #findapro #website #uxdesigner #applicationdeveloper #mumbai #seo #digitalmarketing',\n",
       "  'Post_Designation': 'Imports & Operations Manager at IG International Pvt Ltd.',\n",
       "  'Profile_URL': 'https://www.linkedin.com/in/darshan-chhajed-465736142?miniProfileUrn=urn%3Ali%3Afs_miniProfile%3AACoAACKi0g0BxZAO8vztsDp8Nk5MaPgK2R9sfPM'},\n",
       " {'Name': 'Mahyar Geramizadegan',\n",
       "  'Content': 'I am looking for recommendations for professionals who can help me with Application Development #ApplicationDevelopment #findapro',\n",
       "  'Post_Designation': 'Organization Manager at HRDerak',\n",
       "  'Profile_URL': 'https://www.linkedin.com/in/mahyar-geramizadegan-56b296217?miniProfileUrn=urn%3Ali%3Afs_miniProfile%3AACoAADauTKMBTTaTB3qkcHQlFVzmOu4o4X5ERJg'},\n",
       " {'Name': 'Abhay Saxena',\n",
       "  'Content': 'I am looking for recommendations for professionals who can help me with Web Development #WebDevelopment #findapro #help',\n",
       "  'Post_Designation': \"Entrepreneur | IIMBx | Wharton Business School Online | HPAIR '21| National Entrepreneurship Awards '19 | RR | UMD APM\",\n",
       "  'Profile_URL': 'https://www.linkedin.com/in/abhay-saxena-381697188?miniProfileUrn=urn%3Ali%3Afs_miniProfile%3AACoAACw9UlEBQ5Sr7U-NEox4eSl18OzYWzsD1bk'},\n",
       " {'Name': 'SAYED SHAH',\n",
       "  'Content': 'Father Of 3 Daughters Asking Help From Long time I Extremely Requesting To National Ambulances And Dubai Corporation Ambulances services,And All UAE 🇦🇪 Hospitals, To Please Help Me for a job of Ambulance driver 🙏😪HELP ME HELP ME HELP ME 🙏I am looking for a job of Ambulance driver and would greatly appreciate if anyone can help me to find an opportunity or recommendations.I have been jobless since last two years and now I wants to continue working again and develop my professional career further.  I am an experienced Ambulance Driver / Light vehicle Driver, holding Ambulance Driving license from DCAS. I have 17 years of experience in Medical organizations.I am in need of job urgently as you are aware that I have not worked in last 2 years and my financial situation is worsening day by day. I am fully ready to grab any opportunities which come on my way and I am ready to join the organization immediately. Thank you in advance for any connection, advice, or opportunities you can offer and please share my post so it can reach as many people as possible.Thanks & Regards.Open to work, #ambulances #job2021 #ambulance #gmc #uaejob #nationalambulance #dubaiambulance #mediclinic #americanhospital #saudigermanhospital #hospitals #jobs #career #opportunity #thankyou #work #help #opportunities #dubai #dubai #careers #uae #share #recruitment #employment #medical Zaid ALQaissi Eng. Abidha Fasseen Dubai Corporation for Ambulance Services National Ambulance UAE Saudi German Hospitals Group UAE Al Zahra Pvt. Hospital Dubai Al Sharq Healthcare Dubai Health Authority #hospital #job #healthcare #jobsearch #people',\n",
       "  'Post_Designation': 'I Am looking for a job of Ambulance Driver, I Am professional Ambulance Driver.',\n",
       "  'Profile_URL': 'https://www.linkedin.com/in/sayed-shah-16697b191?miniProfileUrn=urn%3Ali%3Afs_miniProfile%3AACoAAC0r_h4B8vzl0Gu2X16W7bMvNt6OXmLZPsg'},\n",
       " {'Name': 'william mirithu',\n",
       "  'Content': 'I am looking for recommendations for professionals who can help me with Android Development #AndroidDevelopment #findapro #android #software #ios #webdevelopment #appdevelopment #apps #app #apps #mobileapp #mobileappdevelopment',\n",
       "  'Post_Designation': 'Software Engineer at Potent gavi media',\n",
       "  'Profile_URL': 'https://www.linkedin.com/in/william-mirithu-52b361193?miniProfileUrn=urn%3Ali%3Afs_miniProfile%3AACoAAC1vw7MB948oLIsUW5J1f-I7G8dcn5rs8P0'},\n",
       " {'Name': 'Chetan Chawda',\n",
       "  'Content': 'I am looking for recommendations for professionals who can help me with Android & Ios App Development',\n",
       "  'Post_Designation': 'Founder at DChamps Kids Footwear',\n",
       "  'Profile_URL': 'https://www.linkedin.com/in/chetanchawda?miniProfileUrn=urn%3Ali%3Afs_miniProfile%3AACoAABIePUYB5tTKYhtDL1RGO45ZxfsJB7MieYs'},\n",
       " {'Name': 'Muhammad Khubaib',\n",
       "  'Content': 'I am looking for recommendations for professionals who can help me with Web Design in React and PHP #Design #WebDesign #findapro #webdevelopment #php #html #java #javascript #react #developer #css Interested people contact me on 03144762915',\n",
       "  'Post_Designation': 'CEH | IT & Network Administrator | AWS Certified',\n",
       "  'Profile_URL': 'https://www.linkedin.com/in/mkhubaib?miniProfileUrn=urn%3Ali%3Afs_miniProfile%3AACoAAC3-ivwBl63eoATFac68elEKb4DqBz2UqbU'},\n",
       " {'Name': 'Fiazaan Arshad',\n",
       "  'Content': \"I'm looking for recommendations for professionals who can help me with Web Development.1: Figma / XD to HTML/CSS/JS (Frontend) design2: HTML/CSS/JS (Frontend) to WordPress3: Theme Development / Customization4: Plugin Development / Customization 5: Speed Optimization for WordPress  #wordpress #WebDevelopment #findapro\",\n",
       "  'Post_Designation': 'Team Lead Manager at Freelancer.com',\n",
       "  'Profile_URL': 'https://www.linkedin.com/in/fiazaanarshad7?miniProfileUrn=urn%3Ali%3Afs_miniProfile%3AACoAACnYtjIBwuatNdYtW4H-ERWDRa_wEFVVh8A'},\n",
       " {'Name': 'Emil Gamidov',\n",
       "  'Content': \"I'm looking for recommendations for professionals who can help me with Web Development. Looking for someone to manage a Word Press website. #WebDevelopment #findapro\",\n",
       "  'Post_Designation': 'President & Founder at ONYX Health Club 24/7 Franchise',\n",
       "  'Profile_URL': 'https://www.linkedin.com/in/emil-gamidov-aaa98962?miniProfileUrn=urn%3Ali%3Afs_miniProfile%3AACoAAA1QluIB77-FKqL-DxwUVBHL30z4L-Q-Fhw'},\n",
       " {'Name': 'Md Tajul islam',\n",
       "  'Content': 'I’m looking for professionals who can help me with Mobile Application Development. Does anyone have a recommendation? #MobileApplicationDevelopment #findapro #androiddevelopers #iosdevelopment',\n",
       "  'Post_Designation': 'Marketing Advisor at Swan Design International',\n",
       "  'Profile_URL': 'https://www.linkedin.com/in/mdtajulislam4?miniProfileUrn=urn%3Ali%3Afs_miniProfile%3AACoAACqY9BABZ-WVufuzaDBG7pINBjaZGDviON4'},\n",
       " {'Name': 'SAYED SHAH',\n",
       "  'Content': \"Father Of 3 Daughters Asking Help From Long time I Extremely Requesting To National Ambulances And Dubai Corporation Ambulances services,And All UAE 🇦🇪 Hospitals, To Please Help Me for a job of Ambulance driver 🙏😪HELP ME HELP ME HELP ME 🙏I am looking for a job of Ambulance driver and would greatly appreciate if anyone can help me to find an opportunity or recommendations.I have been jobless since last two years and now I wants to continue working again and develop my professional career further.  I am an experienced Ambulance Driver / Light vehicle Driver, holding Ambulance Driving license from DCAS. I have 17 years of experience in Medical organizations.I am in need of job urgently as you are aware that I have not worked in last 2 years and my financial situation is worsening day by day. I am fully ready to grab any opportunities which come on my way and I am ready to join the organization immediately. Thank you in advance for any connection, advice, or opportunities you can offer and please share my post so it can reach as many people as possible.Thanks & Regards.Rejected.....Rejected.....Rejected.....Rejected.....Rejected.....Rejected.....Rejected.....Rejected.....Resume Updated.....LinkedIn Profile updated.....Called All My Friends,people I know and,connection's For a referral.No Interview.No Replies.Still not loosing hope.Kindly refer me with your connection's. If you can't atleast hit like and share or comment.Thanks. #job #career #opportunity #thankyou #linkedin #linkedin #opportunities #people #share #help #resume #hiring #interview #hospitals #careers #recruitment #employment #jobsearch #uae #dubai #jobs #comment #like Dubai Corporation for Ambulance Services National Ambulance UAE Bassem hemdan Rahi Rustham Sha Abdul Rahim Shahina Hussain Al Sharq Healthcare Al Sharq Healthcare Recruitment Dubai Health Authority Anju Nair Dr. Ali Al-Tuckmachy Ahmed J. Belhoul Mohamed Appas Peer Mohamed  Muhammad Amjad Abeer Azhar Aster DM Healthcare ADNOC Group Lina Abu-Sabra IBRAHIM ELMGHRABY Ruma Contractor - Jivan Mariam Radwan Mohammed Affan Atiq Al Rashid Hospital Center - Psychiatry & Addiction DSS Healthcare Dubai Branka Adzic Arfa Banu khan Dhuha Muwaili  Dubai Medical University Hospital Dubai Healthcare City Suresh Kommalapati Sana H Sam Khan Dr Narahari Talur Nadeem Rahman Cleveland Clinic Sheikha Maryam Al Qasimi Dr. Ahmed Al-Qahtani, PhD SKSH Recruitment SKSH Marie Louise Janine De Guzman Saphira Weber Farah Aboul Hosn, LD, CDE, CAS,CNSC, IQA,CCBT #hospital #medical #healthcare #experience #healthcarerecruitment\",\n",
       "  'Post_Designation': 'I Am looking for a job of Ambulance Driver, I Am professional Ambulance Driver.',\n",
       "  'Profile_URL': 'https://www.linkedin.com/in/sayed-shah-16697b191?miniProfileUrn=urn%3Ali%3Afs_miniProfile%3AACoAAC0r_h4B8vzl0Gu2X16W7bMvNt6OXmLZPsg'},\n",
       " {'Name': 'Camilla Long, MCMI',\n",
       "  'Content': \"Overthinking, crippling nerves, sick stomach - all the symptoms of a fear of public speaking 🎤And the last month has given me an overdose of all of these.\\xa0You see in January I decided 2021 was the year to move my public speaking to the next level.\\xa0So I joined the Professional Speaking Association to give me the push I needed.\\xa0And every year the PSA runs the prestigious #SpeakerFactor competition, the annual hunt for emerging professional speakers.\\xa0\\xa0So this weekend I stepped up to the challenge and put myself on a (virtual) stage in front of an audience of professional speakers – folk that make their living from keynote speeches delivered all over the world.\\xa0Way out of my comfort zone 😅And yes, I will write it down.\\xa0I won! I am the Winner for Ireland of Speaker Factor 2021 for the Professional Speaking Association.\\xa0\\xa0🏆My talk only took 5 minutes, but those 5 minutes were packed with the generosity, experience and expertise of too many people to name.\\xa0\\xa0My fabulous work wife Sarah Travers, my client Brian Law and all of my family and friends stepped up.\\xa0They’re there for me always and any time I ask.\\xa0And from within PSA, an organisation that I only joined six months ago I am humbled at the generosity of those PSA members that shared their time and experience.  Jackie Handy FPSA FREC and Eamonn O'Brien, Next-Level Business Storytelling Expert are legends.\\xa0And Steve Bustin’s Critique Club is something I would recommend to anyone looking for robust feedback to develop as a speaker.\\xa0For her encouragement and support, PSA Ireland’s Denise Fay - Community Builder has been the rock that kept us all together.\\xa0And for THE conversation that started it all off, I’m very grateful to Amy Rowlinson.To the rock that she’s become in my life, my fabulous PSA accountability buddy, Eileen Fleming, Thank You!! Eileen and I met for the first time in January at PSA Ireland and we now meet every single week to keep one another accountable for our goals and ambitions.\\xa0I was one of an amazing line-up of Speaker Factor contestants. If you’re in the business of organising events, I recommend you connect with them. There was powerful emotion and advice and life experiences being shared in the room – your audiences will be moved.\\xa0Aisling Brennan Denise Brannick Jean Evans - Networking Architect Aoife Gaffney Patrick Mercie Kate Rooney  The OnLegs Agency Liz ValloorWhat an experience.\\xa0\\xa0My biggest takeaway was managing performance anxiety, so I updated my blog with what I learnt.\\xa0I hope that you might find an idea that helps you the next time you decide to step up and do something that scares you…..\\xa0\\xa0\\xa0Link in the comments belowHave a great week.Paul Davis - Life Purpose and Business Coach Andrew Dobbin Colm O'Brien Lynda Shaw Barbara Moynihan Stuart Harris Andy Lopata #publicspeaking #presentationskills\",\n",
       "  'Post_Designation': 'Public Speaking Coach for corporate & SME leaders and business owners | Virtual Communication Skills | TEDx Public Speaking Partner',\n",
       "  'Profile_URL': 'https://www.linkedin.com/in/camillalong?miniProfileUrn=urn%3Ali%3Afs_miniProfile%3AACoAAA893EkBWyDuC11qyhOCJDQK0BHGBUCK9gw'},\n",
       " {'Name': 'August Timothy',\n",
       "  'Content': \"Hello, I'm looking for recommendations for professionals who can help me with Android Development. Our in-house developer seems to be overwhelmed with our app complexity #AndroidDevelopment #findapro #helpneeded\",\n",
       "  'Post_Designation': 'Chief Executive Officer at De Talktailor Global Resouces Limited',\n",
       "  'Profile_URL': 'https://www.linkedin.com/in/august-timothy-062814147?miniProfileUrn=urn%3Ali%3Afs_miniProfile%3AACoAACOJvEoByJ3WsSdkC7mbziUzkFCP_vQXZD8'},\n",
       " {'Name': 'Latest Job Updates For Freshers and Experienced',\n",
       "  'Content': 'Are you looking for Jobs/Internship Roles:(Both Work from Home & Work from the Office)1. HR Interns, Fresher & Experienced2. Finance and Accounting3. Sales and Marketing -Work from home4. Social Media Marketing5. Graphic Designer6. Web Development7. Data Analyst8. Project Management9. Digital Marketing And HR10. PHP and Android11. Finance.12. BDE Internship And Content Writing13. Data Entry14. Typing Work.15. Java and Python intern.16. BPO.17. ManagerRegister & Submit Your Resume:-\\xa0http://bit.ly/39us0psIndustry Approved Resume Is RecommendCreate Your Resume Using Award-Winning Resume Builder:-\\xa0https://bit.ly/37959zC#resume #job #resume #recruitment #jobs #hiring #jobsearch #gethired #resumewriter #resumebuilder #resumetips #resumewriting #cv #coverletter #cvtips #coverletters #gethired #resumewriter #resumebuilder #resumetips',\n",
       "  'Post_Designation': '1,186,490 followers',\n",
       "  'Profile_URL': 'https://www.linkedin.com/company/latest-job-updates-for-freshers-and-experienced/?miniCompanyUrn=urn%3Ali%3Afs_miniCompany%3A28683398'},\n",
       " {'Name': 'Samsondeen Bakare Korodo',\n",
       "  'Content': \"I am excited to announce that I will be attending the University of Michigan - Stephen M. Ross School of Business this fall in pursuit of my MBA as a Consortium (The Consortium for Graduate Study in Management) fellow.I would like to thank my recommenders, Vaibhav Malankar, MBA and Julie Jefferson; Frank Brifu for his continued mentorship, Nadou S. Lawson and Nancy Kasvosve MBA,MPH (she, her) for their guidance through the Young African MBA's Business School Prep program and finally,\\xa0Max Richards\\xa0for being the best MBA admissions consultant out there. I truly could not have made it here without any of you.I would also like to thank my colleagues at Evoke. The last three years have been filled with great memories at an outstanding organization.To my Ross classmates, I look forward to developing deep and meaningful relationships in our time together to last us a lifetime.\\xa0#GoBlue!\",\n",
       "  'Post_Designation': 'Incoming MBA Candidate | University of Michigan - Ross School of Business',\n",
       "  'Profile_URL': 'https://www.linkedin.com/in/samsondeenbakare?miniProfileUrn=urn%3Ali%3Afs_miniProfile%3AACoAABb0cQYBK2NIhtp1Y5Q9w9RixkbxY6UDV40'},\n",
       " {'Name': 'Iris Olivet Llach',\n",
       "  'Content': 'I am looking for a local developer to build a website. Does anyone in my network have any recommendations? Thanks!',\n",
       "  'Post_Designation': 'Theatrical Sales & Marketing Coordinator at Radioactive Pictures',\n",
       "  'Profile_URL': 'https://www.linkedin.com/in/irisolivetllach?miniProfileUrn=urn%3Ali%3Afs_miniProfile%3AACoAAAfbVwEBun0Ftd0-VzVDSUhiNfQ0aIluIgw'},\n",
       " {'Name': 'Nicole Watts PSM (Née Kennedy)',\n",
       "  'Content': \"Three months into my new role at Transport for NSW and I have embarked on maternity leave. Commencing a new role six months pregnant was a daunting prospect but my Executive Director and team have been incredibly supportive from the get go. From day one, I have been congratulated on my pregnancy and flooded with support. I have loved every second in my new role and relish the opportunity to positively impact our customers every day. I have never felt so motivated and whilst I'm looking forward to a few months off with this little guy, I am eager to return & make a difference. A shout out to Transport for NSW and my Maritime team for welcoming me so openly. I feel fortunate to encounter an employer who doesn't just talk diversity & inclusion but lives it. My experience has taught me that pregnancy shouldn't hinder your career. If you are expectant and considering changing roles or a promotion - take the plunge! And if you're looking for a challenging and rewarding career, in an organisation that fosters career progression, development and flexibility, I highly recommend Transport for NSW.#transportfornsw #nswmaritimeMark Hutchings Yvonne Hughes\",\n",
       "  'Post_Designation': 'Director, NSW Maritime',\n",
       "  'Profile_URL': 'https://www.linkedin.com/in/nicole-kennedy-psm?miniProfileUrn=urn%3Ali%3Afs_miniProfile%3AACoAAAV_70gBNoNxEUPJVLeVMRFZZjdCoKdwNmA'},\n",
       " {'Name': 'BRETT M. RHYNE, Ph.D.',\n",
       "  'Content': \"I'm looking for recommendations of a web developer for a small online project. Any suggestions? Thanks. #webdeveloper\",\n",
       "  'Post_Designation': 'Teacher •\\xa0Writer •\\xa0Editor',\n",
       "  'Profile_URL': 'https://www.linkedin.com/in/brettmrhyne?miniProfileUrn=urn%3Ali%3Afs_miniProfile%3AACoAAAEAvzMBAKTQcnxCgBUdyKnex9RV6vVAQdQ'},\n",
       " {'Name': 'Poonam Vaidya',\n",
       "  'Content': \"Hello connections,I am looking for job in mechanical design engineer role on immediate basis. I have 3.3 years of experience in design. Responsibilities - design of food processing equipment's, material handling equipments and waste water treatment equipments using SOLIDWORKS software, develop 3d model of various machines using sheet metal interface, drafting activities with SOLIDWORKS, basic design calculations, manage cad data with SOLIDWORKS PDM, develop nesting(for fabrication) from sigma nest software.Skills - Solidworks, AutoCAD, Creo, catiav5, nxcad Preferred location - Indore, Vadodara, Ahmedabad, Jaipur, udaipur and Pune.Kindly refer suitable job opportunity. any recommendations would be appreciated.Thanks and regards,Poonam VaidyaMail id - poonamvaidya95@gmail.com\",\n",
       "  'Post_Designation': 'Mechanical Design Engineer',\n",
       "  'Profile_URL': 'https://www.linkedin.com/in/poonam-vaidya-40a114b9?miniProfileUrn=urn%3Ali%3Afs_miniProfile%3AACoAABkcikoBjgrEEsNgYDuVOBirEbYh1A-9zNk'},\n",
       " {'Name': 'Maria Nevoisa',\n",
       "  'Content': \"UPD Thank you so much for your help, everyone! I believe I found a solution for my case.Hi colleagues! I'm looking for web developers to create a website for a personal project. Would be glad if you could recommend me someone based on your positive cooperation.Cheers ✌️\",\n",
       "  'Post_Designation': 'Producer at CD PROJEKT RED',\n",
       "  'Profile_URL': 'https://www.linkedin.com/in/maria-nevoisa-26a13381?miniProfileUrn=urn%3Ali%3Afs_miniProfile%3AACoAABFIZLIBmZeoVvH-Ddd10kaF5sGIbGS4Q-A'}]"
      ]
     },
     "execution_count": 15,
     "metadata": {},
     "output_type": "execute_result"
    }
   ],
   "source": [
    "a"
   ]
  },
  {
   "cell_type": "code",
   "execution_count": null,
   "metadata": {},
   "outputs": [],
   "source": []
  },
  {
   "cell_type": "code",
   "execution_count": null,
   "metadata": {},
   "outputs": [],
   "source": []
  },
  {
   "cell_type": "code",
   "execution_count": 16,
   "metadata": {},
   "outputs": [],
   "source": [
    "df = pd.DataFrame(a)\n",
    "df.index = np.arange(1, len(df)+1)\n",
    "df.to_excel ('Linked_Data_Leads.xlsx', sheet_name = 'sheet1')"
   ]
  },
  {
   "cell_type": "code",
   "execution_count": null,
   "metadata": {},
   "outputs": [],
   "source": []
  }
 ],
 "metadata": {
  "kernelspec": {
   "display_name": "Python 3",
   "language": "python",
   "name": "python3"
  },
  "language_info": {
   "codemirror_mode": {
    "name": "ipython",
    "version": 3
   },
   "file_extension": ".py",
   "mimetype": "text/x-python",
   "name": "python",
   "nbconvert_exporter": "python",
   "pygments_lexer": "ipython3",
   "version": "3.8.8"
  }
 },
 "nbformat": 4,
 "nbformat_minor": 2
}
